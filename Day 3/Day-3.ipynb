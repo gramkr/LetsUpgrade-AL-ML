{
 "cells": [
  {
   "cell_type": "markdown",
   "metadata": {},
   "source": [
    "## Question 1 :\n",
    "### Write a program to subtract two complex numbers in Python."
   ]
  },
  {
   "cell_type": "code",
   "execution_count": 5,
   "metadata": {},
   "outputs": [
    {
     "name": "stdout",
     "output_type": "stream",
     "text": [
      "Complex Number of A =  (123+23j)\n",
      "Complex Number of B =  (32+12j)\n",
      "Subtract of A-b =  (91+11j)\n"
     ]
    }
   ],
   "source": [
    "a=123+23j\n",
    "b=32+12j\n",
    "print(\"Complex Number of A = \", a) \n",
    "print(\"Complex Number of B = \",b)\n",
    "print(\"Subtract of A-B = \", a-b)"
   ]
  },
  {
   "cell_type": "markdown",
   "metadata": {},
   "source": [
    "## Question 2 :\n",
    "### Write a program to find the fourth root of a number."
   ]
  },
  {
   "cell_type": "code",
   "execution_count": 8,
   "metadata": {},
   "outputs": [
    {
     "name": "stdout",
     "output_type": "stream",
     "text": [
      "Fourth root of 625 is  5.0\n"
     ]
    }
   ],
   "source": [
    "import math\n",
    "a=625\n",
    "b=math.sqrt(a)\n",
    "c=math.sqrt(b)\n",
    "print (\"Fourth root of 625 is \", c)"
   ]
  },
  {
   "cell_type": "markdown",
   "metadata": {},
   "source": [
    "## Question 3:\n",
    "### Write a program to swap two numbers in Python with the help of a temporary variable."
   ]
  },
  {
   "cell_type": "code",
   "execution_count": 11,
   "metadata": {},
   "outputs": [
    {
     "name": "stdout",
     "output_type": "stream",
     "text": [
      "Swapping of two numbers with the help of temp variable is  5 3\n"
     ]
    }
   ],
   "source": [
    "a=3\n",
    "b=5\n",
    "c=a\n",
    "a=b\n",
    "b=c\n",
    "print(\"Swapping of two numbers with the help of temp variable is \",a,b)"
   ]
  },
  {
   "cell_type": "markdown",
   "metadata": {},
   "source": [
    "## Question 4:\n",
    "### Write a program to swap two numbers in Python without using a temporary variable."
   ]
  },
  {
   "cell_type": "code",
   "execution_count": 14,
   "metadata": {},
   "outputs": [
    {
     "name": "stdout",
     "output_type": "stream",
     "text": [
      "Before Swapping is 3 5\n",
      "After Swapping is 5 3\n"
     ]
    }
   ],
   "source": [
    "a=3\n",
    "b=5\n",
    "print(\"Before Swapping is\", a,b)\n",
    "a,b=b,a\n",
    "print(\"After Swapping is\",a,b)\n"
   ]
  },
  {
   "cell_type": "markdown",
   "metadata": {},
   "source": [
    "## Question 5:\n",
    "### Write a program to convert fahrenheit to kelvin and celsius both."
   ]
  },
  {
   "cell_type": "code",
   "execution_count": 19,
   "metadata": {},
   "outputs": [
    {
     "name": "stdout",
     "output_type": "stream",
     "text": [
      "Temperature in Fahrenheit is 140\n",
      "Temperature in Kelvin is 333.15\n",
      "Temperature in Celsius is 60.0\n"
     ]
    }
   ],
   "source": [
    "f=140 #Temperature in Fahrenheit#\n",
    "c=5/9*(f-32)\n",
    "k=(f-32)*(5/9)+273.15\n",
    "print (\"Temperature in Fahrenheit is\",f)\n",
    "print (\"Temperature in Kelvin is\", k)\n",
    "print (\"Temperature in Celsius is\",c)"
   ]
  },
  {
   "cell_type": "markdown",
   "metadata": {},
   "source": [
    "## Question 6:\n",
    "### Write a program to demonstrate all the available data types in Python. Hint: Use type() function."
   ]
  },
  {
   "cell_type": "code",
   "execution_count": 22,
   "metadata": {},
   "outputs": [
    {
     "name": "stdout",
     "output_type": "stream",
     "text": [
      "Data Types of A is <class 'int'>\n",
      "Data Types of B is <class 'float'>\n",
      "Data Types of C is <class 'str'>\n",
      "Data Types of D is <class 'complex'>\n",
      "Data Types of E is <class 'tuple'>\n"
     ]
    }
   ],
   "source": [
    "a=123123\n",
    "b=123.234234\n",
    "c=\"asdffas\"\n",
    "d=123+12j\n",
    "e=12,234,452\n",
    "print (\"Data Types of A is\", type(a))\n",
    "print (\"Data Types of B is\", type(b))\n",
    "print (\"Data Types of C is\", type(c))\n",
    "print (\"Data Types of D is\", type(d))\n",
    "print (\"Data Types of E is\", type(e))"
   ]
  },
  {
   "cell_type": "markdown",
   "metadata": {},
   "source": [
    "## Question 7:\n",
    "### Create a Markdown cell in jupyter and list the steps discussed in the session by Dr. Darshan"
   ]
  },
  {
   "cell_type": "markdown",
   "metadata": {},
   "source": [
    "Discussed about python basics, different python IDLE, jupyter overview, basic function, etc"
   ]
  },
  {
   "cell_type": "code",
   "execution_count": null,
   "metadata": {},
   "outputs": [],
   "source": []
  }
 ],
 "metadata": {
  "kernelspec": {
   "display_name": "Python 3",
   "language": "python",
   "name": "python3"
  },
  "language_info": {
   "codemirror_mode": {
    "name": "ipython",
    "version": 3
   },
   "file_extension": ".py",
   "mimetype": "text/x-python",
   "name": "python",
   "nbconvert_exporter": "python",
   "pygments_lexer": "ipython3",
   "version": "3.8.3"
  }
 },
 "nbformat": 4,
 "nbformat_minor": 4
}
